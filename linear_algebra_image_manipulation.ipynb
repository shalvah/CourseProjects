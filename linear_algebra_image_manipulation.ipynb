{
 "cells": [
  {
   "metadata": {},
   "cell_type": "markdown",
   "source": [
    "# Linear Algebra: Manipulating Images with Matrix Operations\n",
    "First, we load an image using the Python Image Processing Library. Note that even though we'll reimplement most of the library's functionality (crop, resize, scale, merge methods), we're not reimplementing image reading, as that would mean interpreting bytes based on the image spec (JPEG/PNG/whatever), and that isn't our focus."
   ],
   "id": "a5468afff3f2c7f0"
  },
  {
   "cell_type": "code",
   "id": "initial_id",
   "metadata": {
    "collapsed": true,
    "ExecuteTime": {
     "end_time": "2024-10-23T09:37:16.761477Z",
     "start_time": "2024-10-23T09:37:16.539420Z"
    }
   },
   "source": [
    "import numpy as np\n",
    "from PIL import Image\n",
    "\n",
    "image = Image.open('fixtures/koala.jpg')\n",
    "\n",
    "# This works because the Image class implements .__array_interface__()\n",
    "matrix = np.array(image)\n",
    "print(matrix.shape)\n",
    "print(matrix[0][0])\n"
   ],
   "outputs": [
    {
     "name": "stdout",
     "output_type": "stream",
     "text": [
      "(768, 1024, 3)\n",
      "[101  90  58]\n"
     ]
    }
   ],
   "execution_count": 2
  },
  {
   "metadata": {},
   "cell_type": "markdown",
   "source": [
    "## Understanding the image\n",
    "The image is 1024 x 768, in RGB mode. Its matrix has the shape (768, 1024, 3). So this is a 2-dimensional matrix (768 * 1024) with 3 items each, representing the RGB value of each pixel. For instance, printing `matrix[0]` gives `[101  90  58]`.\n",
    "\n",
    "## Challenge 1: Size manipulation - Crop\n",
    "Say we only want to keep the centre of the image, by area (ie we maintain the aspect ratio).\n",
    "\n",
    "Area of image = 1024 * 768 = 786 432 pixels².\n",
    "Desired area = 393 216 pixels²\n",
    "To find the length and breadth to give us this aspect ratio: 4p * 3p = 12p² = 393216 => p = 181.02.\n",
    "\n",
    "This gives us dimensions 4(181.02) x 3(181.02) = 724 x 543 (round to 544 to be an even number).\n",
    "\n",
    "So, from the smaller dimension in the matrix (768), we will keep the inner 544 (remove 112 at the start and end). From the higher dimension (1024), we will keep the inner 724 (remove 150 at the start and end)."
   ],
   "id": "a32d5264f8ff9949"
  },
  {
   "metadata": {
    "ExecuteTime": {
     "end_time": "2024-10-22T22:19:41.747309Z",
     "start_time": "2024-10-22T22:19:41.443803Z"
    }
   },
   "cell_type": "code",
   "source": [
    "cropped = matrix[112:-112]\n",
    "cropped = cropped[:,150:-150]\n",
    "\n",
    "Image.fromarray(cropped).show()"
   ],
   "id": "87641ceee39d64f5",
   "outputs": [],
   "execution_count": 33
  },
  {
   "metadata": {},
   "cell_type": "markdown",
   "source": [
    "\n",
    "## Challenge 2: Size manipulation - Resize\n",
    "How do we reduce the size of this image (without changing its other dimensions)?\n",
    "- We need to keep its original aspect ratio, which is 4:3 (1024:768)\n",
    "- To reduce this, we must get rid of some pixels. We can't simply take the first/last 600. We must reduce proportionally.\n",
    "\n",
    "Supposing we want to reduce it to 600x400. This is a reduction of 1.28. So we must replace every 1.28 pixels by 1 pixel, or every 64 pixels must be replaced by 50.\n",
    "\n",
    "## Challenge 3: Geometrical manipulation - Rotate\n",
    "Rotating an image by 90 is easy: we can transpose its pixels.\n",
    "\n",
    "## Challenge 3: Geometrical manipulation - Reflect\n",
    "To reflect geometrically around the y-axis, the mapping is f: x -> -x. Here, x is the horizontal coordinate (1024). So we only need to invert the indexes.\n",
    "\n",
    " "
   ],
   "id": "140c05c99a7adb4a"
  },
  {
   "metadata": {
    "ExecuteTime": {
     "end_time": "2024-10-23T09:38:30.547269Z",
     "start_time": "2024-10-23T09:38:30.317597Z"
    }
   },
   "cell_type": "code",
   "source": [
    "reflected_in_y = matrix[:,::-1]\n",
    "# Image.fromarray(reflected_in_y).show()\n",
    "\n",
    "reflected_in_x = matrix[::-1]\n",
    "reflected_in_xy = matrix[::-1,::-1]\n",
    "Image.fromarray(reflected_in_xy).show()"
   ],
   "id": "3ea09cd5ddf96398",
   "outputs": [],
   "execution_count": 5
  },
  {
   "metadata": {},
   "cell_type": "markdown",
   "source": [
    "\n",
    "## Challenge 4: Colour manipulation - Filter"
   ],
   "id": "31e100c2605dec28"
  },
  {
   "metadata": {
    "ExecuteTime": {
     "end_time": "2024-10-22T22:28:00.093010Z",
     "start_time": "2024-10-22T22:27:59.710436Z"
    }
   },
   "cell_type": "code",
   "source": [
    "print(matrix[0, 0])\n",
    "filtered = matrix\n",
    "# We could also just do filtered[:,:,2] *= 0.5, but this fails because of the casting (float to int)\n",
    "filtered[:,:,2] = np.multiply(0.5, filtered[:,:,2], casting='unsafe')\n",
    "print(filtered[0, 0])\n",
    "\n",
    "Image.fromarray(filtered).show()\n"
   ],
   "id": "74f3dca1dea1cc3f",
   "outputs": [
    {
     "name": "stdout",
     "output_type": "stream",
     "text": [
      "[101  90  29]\n",
      "[101  90  14]\n"
     ]
    }
   ],
   "execution_count": 40
  }
 ],
 "metadata": {
  "kernelspec": {
   "display_name": "Python 3",
   "language": "python",
   "name": "python3"
  },
  "language_info": {
   "codemirror_mode": {
    "name": "ipython",
    "version": 2
   },
   "file_extension": ".py",
   "mimetype": "text/x-python",
   "name": "python",
   "nbconvert_exporter": "python",
   "pygments_lexer": "ipython2",
   "version": "2.7.6"
  }
 },
 "nbformat": 4,
 "nbformat_minor": 5
}
