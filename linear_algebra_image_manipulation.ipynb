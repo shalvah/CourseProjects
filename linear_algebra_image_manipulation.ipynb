{
 "cells": [
  {
   "metadata": {},
   "cell_type": "markdown",
   "source": [
    "# [Mathematics: Linear Algebra] Manipulating images with matrix operations\n",
    "Goal: Perform some basic transformations on an image using vector/matrix operations.\n",
    "\n",
    "First, we load an image using the Python Image Processing Library. Note that even though we'll reimplement most of the library's functionality (crop, resize, scale, merge methods), we're not reimplementing image reading, as that would mean interpreting bytes based on the image spec (JPEG/PNG/whatever), and that isn't our focus."
   ],
   "id": "a5468afff3f2c7f0"
  },
  {
   "cell_type": "code",
   "id": "initial_id",
   "metadata": {
    "collapsed": true,
    "ExecuteTime": {
     "end_time": "2024-10-24T19:58:37.305700Z",
     "start_time": "2024-10-24T19:58:36.878323Z"
    }
   },
   "source": [
    "import math\n",
    "import numpy as np\n",
    "from PIL import Image\n",
    "\n",
    "image = Image.open('fixtures/koala.jpg')\n",
    "\n",
    "# This works because the Image class implements .__array_interface__()\n",
    "matrix = np.array(image)\n",
    "\n",
    "# It returns a 3D array (Would have been nicer if it returned a 2D array of 3-tuples)\n",
    "print(matrix.shape)\n",
    "print(matrix[0][0])\n"
   ],
   "outputs": [
    {
     "name": "stdout",
     "output_type": "stream",
     "text": [
      "(768, 1024, 3)\n",
      "[101  90  58]\n",
      "<class 'numpy.ndarray'>\n"
     ]
    }
   ],
   "execution_count": 74
  },
  {
   "metadata": {},
   "cell_type": "markdown",
   "source": [
    "## Understanding the image\n",
    "The image is 1024 by 768, in RGB mode. Its matrix has the shape (768, 1024, 3). So this is a 2-dimensional matrix (768 * 1024) with 3 items each, representing the RGB value of each pixel. `matrix[i][j]` will be `[red_value  green_value  blue_value]`.\n",
    "\n",
    "A key to the matrix manipulations is treating this as a set of position vectors that we manipulate independently.\n",
    "\n",
    "## Challenge 1: Size manipulation - Crop\n",
    "Let's say we want to crop the image to a central portion half the original area. TO do this without distortion, we must maintain the shape (ie the aspect ratio of 4:3, or 1024:768).\n",
    "\n",
    "Area of image = 1024 * 768 = 786 432 pixels².\n",
    "\n",
    "Desired area = 393 216 pixels².\n",
    "\n",
    "Length and width to give us this area while maintaining the aspect ratio: 4p * 3p = 12p² = 393216 => p = 181.02.\n",
    "\n",
    "Thus, l = 4(181.02) and w 3(181.02) => 724 by 543 (round to 544 to be an even number).\n",
    "\n",
    "If we call the 768 dimension x and the 1024 dimension y, this means we will keep the inner 544 in x (remove 112 at the start and end) and the inner 724 in y (remove 150 at the start and end)."
   ],
   "id": "a32d5264f8ff9949"
  },
  {
   "metadata": {
    "ExecuteTime": {
     "end_time": "2024-10-23T22:01:46.388070Z",
     "start_time": "2024-10-23T22:01:46.182992Z"
    }
   },
   "cell_type": "code",
   "source": [
    "cropped_half_area = matrix[112:-112, 150:-150]\n",
    "\n",
    "Image.fromarray(cropped_half_area).show()"
   ],
   "id": "87641ceee39d64f5",
   "outputs": [],
   "execution_count": 3
  },
  {
   "metadata": {},
   "cell_type": "markdown",
   "source": "We can also instead crop to a specific aspect ratio, say 1:1 (as for a profile picture). The resulting dimensions will then be 768 by 768, since we can only crop to the smaller dimension. If we still want to crop outwards from the centre, this means we'll take the full 768 in x and keep 768 from y (remove 128 from each end).",
   "id": "a91dabd425f48511"
  },
  {
   "metadata": {
    "ExecuteTime": {
     "end_time": "2024-10-23T22:02:59.385834Z",
     "start_time": "2024-10-23T22:02:59.130680Z"
    }
   },
   "cell_type": "code",
   "source": [
    "cropped_1_1 = matrix[:, 128:-128]\n",
    "Image.fromarray(cropped_1_1).show()"
   ],
   "id": "6ab19d645e5b1462",
   "outputs": [],
   "execution_count": 4
  },
  {
   "metadata": {},
   "cell_type": "markdown",
   "source": "Next challenge: cropping to a circular shape. To do this, we'll find all pixels outside the circle and zero them. The radius of our circle will be 768/2 = 384. We can go over each cell and zero it if its distance from the centre is greater than 384.",
   "id": "b5bf72975035f41f"
  },
  {
   "metadata": {
    "ExecuteTime": {
     "end_time": "2024-10-24T18:57:45.538023Z",
     "start_time": "2024-10-24T18:57:45.530670Z"
    }
   },
   "cell_type": "code",
   "source": [
    "x, y, _ = matrix.shape\n",
    "diameter = min(x, y)\n",
    "radius = diameter / 2\n",
    "centre = ((x + 1) / 2, (y + 1) / 2)\n",
    "\n",
    "# X is a 768 x 1 column vector, represented by 768 arrays of 1 element each\n",
    "# Y is a 1 x 1024 row vector, represented by 1 array of 1024 items\n",
    "X, Y = np.ogrid[:x, :y]\n",
    "a = (X - centre[0]) ** 2 \n",
    "b = (Y - centre[1]) ** 2\n",
    "z = a + b\n",
    "distance = np.sqrt((X - centre[0]) ** 2 + (Y - centre[1]) ** 2)\n",
    "mask = distance > radius\n",
    "\n",
    "cropped_circular = np.array(matrix)\n",
    "cropped_circular[mask] = [0, 0, 0]  # We could do ~mask to invert the crop\n",
    "\n",
    "Image.fromarray(cropped_circular).show()"
   ],
   "id": "3aca1068be819836",
   "outputs": [],
   "execution_count": 25
  },
  {
   "metadata": {},
   "cell_type": "markdown",
   "source": [
    "The initial implementation of this looped over each position vector, calculated the distance and then unset it if it failed. This was not performant (took 3 seconds). NumPy gives us more powerful ways to do this (pushing the computations to C):\n",
    "- With operators and broadcasting, comparing each element of the distance matrix to the radius is nearly instant.\n",
    "- With masking, we can easily modify a whole set of cells."
   ],
   "id": "2cc1a4e551ba9b67"
  },
  {
   "metadata": {},
   "cell_type": "markdown",
   "source": [
    "\n",
    "## Challenge 2: Size manipulation - Resize\n",
    "How do we reduce the size of this image without changing its other dimensions? We need to keep its original 4:3 aspect ratio, which is 4:3 (1024:768).\n",
    "\n",
    "Supposing we want to reduce it to 600x400. This is a reduction of 1.28. So we must replace every 1.28 pixels in the original image by 1 pixel, or every 64 pixels must be replaced by 50.\n",
    "\n",
    "We can do this with matrix operations. Scaling a position vector by k is equivalent to pre-multiplying by $ \\begin{psmallmatrix} k & 0 \\\\ 0 & k \\end{psmallmatrix} $, ie:\n",
    "\n",
    "$$\n",
    "\\begin{pmatrix} k & 0 \\\\ 0 & k \\end{pmatrix} \\cdot \\begin{pmatrix} x \\\\ y \\end{pmatrix} = \\begin{pmatrix} kx \\\\ ky \\end{pmatrix}\n",
    "$$"
   ],
   "id": "a444e8cae233b95d"
  },
  {
   "metadata": {
    "ExecuteTime": {
     "end_time": "2024-10-24T19:16:12.058953Z",
     "start_time": "2024-10-24T19:16:09.429989Z"
    }
   },
   "cell_type": "code",
   "source": [
    "scaling_factor = 600 / 1024\n",
    "scaling_matrix = np.array([[scaling_factor, 0], [0, scaling_factor]])\n",
    "\n",
    "# First, allocate output matrix by applying the scaling matrix to the original dimensions\n",
    "new_dimensions = np.matmul(scaling_matrix, matrix.shape[0:2]).astype(int)\n",
    "scaled = np.empty((*new_dimensions, matrix.shape[2]), dtype=matrix.dtype)\n",
    "\n",
    "for i1 in range(matrix.shape[0]):\n",
    "    for j1 in range(matrix.shape[1]):\n",
    "        i2, j2 = np.matmul(scaling_matrix, [i1, j1])\n",
    "        scaled[int(i2), int(j2)] = matrix[i1, j1]\n",
    "\n",
    "Image.fromarray(scaled).show()\n"
   ],
   "id": "ca89bba88d2603b6",
   "outputs": [],
   "execution_count": 35
  },
  {
   "metadata": {},
   "cell_type": "markdown",
   "source": [
    "This implementation has some limitations:\n",
    "1. It loops over each pixel. There's probably a more efficient way to do this in NumPy, but I couldn't figure it out.\n",
    "2. The scaling is not very precise. Scaling can lead to non-integral coordinates, and I'm simply casting them to int, but there's no guarantee we won't have some coordinates to which nothing maps. Even if we do, there's no guarantee that it's the \"right\" pixel; if we must precisely replace every 1.28 pixels by 1, we should ideally find the two neighbouring pixels to be merged and decide on the appropriate replacement.\n",
    "\n",
    "   Additionally, scaling up (eg resizing to 1920x1080) will lead to some pixels being blank (since we now have more pixels). For precision, we should look at those blank pixels and decide how to fill them from neighbouring ones. I heard of a technique called bilinear interpolation for this. "
   ],
   "id": "915823001f6c4e38"
  },
  {
   "metadata": {},
   "cell_type": "markdown",
   "source": [
    "\n",
    "## Challenge 3: Geometrical manipulation - Rotate\n",
    "For rotation, we can once again multiply a matrix, in this case, \n",
    "$$\n",
    "\\begin{pmatrix} \\cos θ & -\\sin θ \\\\ \\sin θ & \\cos θ \\end{pmatrix}\n",
    "$$\n",
    "\n",
    "Proof: if a vector (x, y) originally at angle α and with magnitude of p, is rotated through α+θ, its new coordinates will be $ (p \\cos(α+θ), p \\sin(α+θ)) = (p[\\cos(α)\\cos(θ) - \\sin(α)\\sin(θ)], p[\\sin(α)\\cos(θ) + \\cos(α)\\sin(θ)]) = (x \\cos θ - y \\sin θ, y \\cos θ + x \\sin θ) $.\n",
    "\n",
    "Let's rotate by 270° ($ \\frac{3}{2}π $ radians).\n"
   ],
   "id": "d5e0ece69be6366a"
  },
  {
   "metadata": {
    "ExecuteTime": {
     "end_time": "2024-10-24T19:41:31.796737Z",
     "start_time": "2024-10-24T19:41:28.406116Z"
    }
   },
   "cell_type": "code",
   "source": [
    "theta = 3 * np.pi / 2\n",
    "rotation_matrix = np.array([[np.cos(theta), -np.sin(theta)], [np.sin(theta), np.cos(theta)]]).astype(int)\n",
    "\n",
    "# First, allocate output matrix by applying the scaling matrix to the original dimensions\n",
    "# Use abs to get rid of the negative dimensions as we only need the absolute length\n",
    "new_dimensions = np.abs(np.matmul(rotation_matrix, matrix.shape[0:2]).astype(int))\n",
    "rotated = np.empty((*new_dimensions, matrix.shape[2]), dtype=matrix.dtype)\n",
    "\n",
    "for i1 in range(matrix.shape[0]):\n",
    "    for j1 in range(matrix.shape[1]):\n",
    "        i2, j2 = np.matmul(rotation_matrix, [i1, j1])\n",
    "        rotated[i2][j2] = matrix[i1, j1]\n",
    "\n",
    "Image.fromarray(rotated).show()"
   ],
   "id": "48d35a7ac3151b38",
   "outputs": [],
   "execution_count": 43
  },
  {
   "metadata": {},
   "cell_type": "markdown",
   "source": [
    "\n",
    "\n",
    "## Challenge 4: Geometrical manipulation - Reflect\n",
    "To reflect geometrically around the y-axis, the mapping is $ f: x \\rightarrow -x $, where x is the coordinate (eg 1024 or 768). So we only need to invert the indexes.\n",
    " "
   ],
   "id": "140c05c99a7adb4a"
  },
  {
   "metadata": {
    "ExecuteTime": {
     "end_time": "2024-10-23T09:40:58.141235Z",
     "start_time": "2024-10-23T09:40:57.951252Z"
    }
   },
   "cell_type": "code",
   "source": [
    "reflected_in_y = matrix[:, ::-1]\n",
    "reflected_in_x = matrix[::-1]\n",
    "reflected_in_xy = matrix[::-1, ::-1]\n",
    "Image.fromarray(reflected_in_xy).show()"
   ],
   "id": "3ea09cd5ddf96398",
   "outputs": [],
   "execution_count": 6
  },
  {
   "metadata": {},
   "cell_type": "markdown",
   "source": [
    "\n",
    "## Challenge 5: Colour manipulation - Filter\n",
    "We can also manipulate the image's appearance by adjusting the RGB values. For instance, let's halve all blues."
   ],
   "id": "31e100c2605dec28"
  },
  {
   "metadata": {
    "ExecuteTime": {
     "end_time": "2024-10-24T19:53:34.897120Z",
     "start_time": "2024-10-24T19:53:34.402532Z"
    }
   },
   "cell_type": "code",
   "source": [
    "filtered = np.copy(matrix)\n",
    "# We could also just do filtered[:,:,2] *= 0.5, but this fails because of the casting (float to int)\n",
    "filtered[:, :, 2] = np.multiply(0.5, filtered[:, :, 2], casting='unsafe')\n",
    "\n",
    "Image.fromarray(filtered).show()\n"
   ],
   "id": "74f3dca1dea1cc3f",
   "outputs": [],
   "execution_count": 71
  },
  {
   "metadata": {},
   "cell_type": "markdown",
   "source": [
    "## Conclusion\n",
    "We've used some basic linear algebra to demonstrate the basic principles of image manipulations. The keys:\n",
    "- treating the pixel matrix indexes as a set of position vectors, which we could then manipulate to transform the image\n",
    "- manipulating RGB values to apply filters "
   ],
   "id": "bc28b3e147216997"
  }
 ],
 "metadata": {
  "kernelspec": {
   "display_name": "Python 3",
   "language": "python",
   "name": "python3"
  },
  "language_info": {
   "codemirror_mode": {
    "name": "ipython",
    "version": 2
   },
   "file_extension": ".py",
   "mimetype": "text/x-python",
   "name": "python",
   "nbconvert_exporter": "python",
   "pygments_lexer": "ipython2",
   "version": "2.7.6"
  }
 },
 "nbformat": 4,
 "nbformat_minor": 5
}
