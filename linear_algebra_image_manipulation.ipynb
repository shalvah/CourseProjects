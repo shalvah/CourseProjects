{
 "cells": [
  {
   "metadata": {},
   "cell_type": "markdown",
   "source": [
    "# Linear Algebra: Manipulating images with matrix operations\n",
    "First, we load an image using the Python Image Processing Library. Note that even though we'll reimplement most of the library's functionality (crop, resize, scale, merge methods), we're not reimplementing image reading, as that would mean interpreting bytes based on the image spec (JPEG/PNG/whatever), and that isn't our focus."
   ],
   "id": "a5468afff3f2c7f0"
  },
  {
   "cell_type": "code",
   "id": "initial_id",
   "metadata": {
    "collapsed": true,
    "ExecuteTime": {
     "end_time": "2024-10-23T18:11:16.095204Z",
     "start_time": "2024-10-23T18:11:16.078955Z"
    }
   },
   "source": [
    "import math\n",
    "import numpy as np\n",
    "from PIL import Image\n",
    "\n",
    "image = Image.open('fixtures/koala.jpg')\n",
    "\n",
    "# This works because the Image class implements .__array_interface__()\n",
    "matrix = np.array(image)\n",
    "\n",
    "# It returns a 3D array (Would have been nicer if it returned a 2D array of 3-tuples)\n",
    "print(matrix.shape)\n",
    "print(matrix[0][0])\n"
   ],
   "outputs": [
    {
     "name": "stdout",
     "output_type": "stream",
     "text": [
      "(768, 1024, 3)\n",
      "[101  90  58]\n"
     ]
    }
   ],
   "execution_count": 5
  },
  {
   "metadata": {},
   "cell_type": "markdown",
   "source": [
    "## Understanding the image\n",
    "The image is 1024 by 768, in RGB mode. Its matrix has the shape (768, 1024, 3). So this is a 2-dimensional matrix (768 * 1024) with 3 items each, representing the RGB value of each pixel. `matrix[i][j]` will be `[red_value  green_value  blue_value]`.\n",
    "\n",
    "## Challenge 1: Size manipulation - Crop\n",
    "Let's say we want to crop the image to a central portion half the original area, and maintaining the shape (ie the aspect ratio).\n",
    "\n",
    "Area of image = 1024 * 768 = 786 432 pixels².\n",
    "Desired area = 393 216 pixels²\n",
    "To find the length and breadth to give us this area while maintaining the aspect ratio: 4p * 3p = 12p² = 393216 => p = 181.02.\n",
    "\n",
    "This gives us dimensions 4(181.02) by 3(181.02) = 724 by 543 (round to 544 to be an even number).\n",
    "\n",
    "If we call the 768 dimension x and the 1024 dimension y, this means we will keep the inner 544 in x (remove 112 at the start and end) and the inner 724 in y (remove 150 at the start and end)."
   ],
   "id": "a32d5264f8ff9949"
  },
  {
   "metadata": {
    "ExecuteTime": {
     "end_time": "2024-10-22T22:19:41.747309Z",
     "start_time": "2024-10-22T22:19:41.443803Z"
    }
   },
   "cell_type": "code",
   "source": [
    "cropped = matrix[112:-112]\n",
    "cropped = cropped[:, 150:-150]\n",
    "\n",
    "Image.fromarray(cropped).show()"
   ],
   "id": "87641ceee39d64f5",
   "outputs": [],
   "execution_count": 33
  },
  {
   "metadata": {},
   "cell_type": "markdown",
   "source": "Alternatively, if we want to instead crop to a specific aspect ratio, say 1:1 (as for a profile picture). The resulting dimensions will then be 768 by 768, since we can only crop to the smaller dimension. If we still want to crop outwards from the centre, this means we'll take the full 768 in x and keep 768 from y (remove 128 from each end).",
   "id": "a91dabd425f48511"
  },
  {
   "metadata": {
    "ExecuteTime": {
     "end_time": "2024-10-23T18:11:21.048113Z",
     "start_time": "2024-10-23T18:11:20.819361Z"
    }
   },
   "cell_type": "code",
   "source": [
    "cropped = matrix[:, 128:-128]\n",
    "Image.fromarray(cropped).show()"
   ],
   "id": "6ab19d645e5b1462",
   "outputs": [],
   "execution_count": 6
  },
  {
   "metadata": {},
   "cell_type": "markdown",
   "source": [
    "Next challenge: cropping to a circular shape? To do this, we'll find all pixels outside the circle and zero them. First, the radius of the circle is 768/2 = 384. We can go over each cell and zero it if its distance from the centre is greater than 384.\n",
    "The centre is: [383.5,383.5]"
   ],
   "id": "b5bf72975035f41f"
  },
  {
   "metadata": {
    "ExecuteTime": {
     "end_time": "2024-10-23T18:18:36.906128Z",
     "start_time": "2024-10-23T18:18:34.688627Z"
    }
   },
   "cell_type": "code",
   "source": [
    "radius = (cropped.shape[0] + 1)/2 if cropped.shape[0] % 2 == 0 else cropped.shape[0]/2\n",
    "centre = (radius, radius)\n",
    "\n",
    "circular_cropped = np.array(cropped)\n",
    "for i in range(cropped.shape[0]):\n",
    "    for j in range(cropped.shape[1]):\n",
    "        distance = np.linalg.norm(np.array([i, j]) - centre)\n",
    "        if distance > radius:\n",
    "            circular_cropped[i,j] = [0,0,0]\n",
    "\n",
    "Image.fromarray(circular_cropped).show()"
   ],
   "id": "3aca1068be819836",
   "outputs": [],
   "execution_count": 19
  },
  {
   "metadata": {},
   "cell_type": "markdown",
   "source": [
    "\n",
    "## Challenge 2: Size manipulation - Resize\n",
    "How do we reduce the size of this image (without changing its other dimensions)?\n",
    "- We need to keep its original aspect ratio, which is 4:3 (1024:768)\n",
    "- To reduce this, we must get rid of some pixels. We can't simply take the first/last 600. We must reduce proportionally.\n",
    "\n",
    "Supposing we want to reduce it to 600x400. This is a reduction of 1.28. So we must replace every 1.28 pixels by 1 pixel, or every 64 pixels must be replaced by 50."
   ],
   "id": "a444e8cae233b95d"
  },
  {
   "metadata": {
    "ExecuteTime": {
     "end_time": "2024-10-23T17:44:22.616510Z",
     "start_time": "2024-10-23T17:44:19.385709Z"
    }
   },
   "cell_type": "code",
   "source": [
    "scaling_factor = 600/1024\n",
    "# scaling_factor = 1920/1024 # Weakness: empty pixels (solve: fill in neighbouring pixels)\n",
    "scaling_matrix = np.array([[scaling_factor, 0], [0, scaling_factor]])\n",
    "new_shape = np.matmul(scaling_matrix, matrix.shape[0:2])\n",
    "# todo figure out how to cast with numpy\n",
    "new_shape = (int(new_shape[0]), int(new_shape[1]), matrix.shape[2])\n",
    "scaled = np.empty(new_shape, dtype=matrix.dtype)\n",
    "\n",
    "for i1 in range(matrix.shape[0]):\n",
    "    for j1 in range(matrix.shape[1]):\n",
    "        i2, j2 = np.matmul(scaling_matrix, [i1, j1])\n",
    "        scaled[int(i2), int(j2)] = matrix[i1, j1]\n",
    "\n",
    "Image.fromarray(scaled).show()"
   ],
   "id": "ca89bba88d2603b6",
   "outputs": [],
   "execution_count": 49
  },
  {
   "metadata": {},
   "cell_type": "markdown",
   "source": [
    "\n",
    "## Challenge 3: Geometrical manipulation - Rotate\n"
   ],
   "id": "d5e0ece69be6366a"
  },
  {
   "metadata": {
    "ExecuteTime": {
     "end_time": "2024-10-23T17:12:18.034315Z",
     "start_time": "2024-10-23T17:12:15.661451Z"
    }
   },
   "cell_type": "code",
   "source": [
    "theta = np.radians(3 * np.pi / 2)\n",
    "# rotation_matrix = np.array([[np.cos(theta), -np.sin(theta)], [np.sin(theta), np.cos(theta)]])\n",
    "rotation_matrix = np.array([[0, 1], [-1, 0]])\n",
    "\n",
    "new_shape = np.matmul(rotation_matrix, matrix.shape[0:2])\n",
    "rotated = np.empty((*np.abs(new_shape), matrix.shape[2]), dtype=matrix.dtype)\n",
    "\n",
    "for i1 in range(matrix.shape[0]):\n",
    "    for j1 in range(matrix.shape[1]):\n",
    "        i2, j2 = np.matmul(rotation_matrix, [i1, j1])\n",
    "        rotated[i2][j2] = matrix[i1, j1]\n",
    "\n",
    "Image.fromarray(rotated).show()"
   ],
   "id": "48d35a7ac3151b38",
   "outputs": [],
   "execution_count": 27
  },
  {
   "metadata": {},
   "cell_type": "markdown",
   "source": [
    "\n",
    "\n",
    "## Challenge 3: Geometrical manipulation - Reflect\n",
    "To reflect geometrically around the y-axis, the mapping is f: x -> -x. Here, x is the coordinate (eg 1024/768). So we only need to invert the indexes.\n",
    "\n",
    " "
   ],
   "id": "140c05c99a7adb4a"
  },
  {
   "metadata": {
    "ExecuteTime": {
     "end_time": "2024-10-23T09:40:58.141235Z",
     "start_time": "2024-10-23T09:40:57.951252Z"
    }
   },
   "cell_type": "code",
   "source": [
    "reflected_in_y = matrix[:, ::-1]\n",
    "reflected_in_x = matrix[::-1]\n",
    "reflected_in_xy = matrix[::-1, ::-1]\n",
    "Image.fromarray(reflected_in_xy).show()"
   ],
   "id": "3ea09cd5ddf96398",
   "outputs": [],
   "execution_count": 6
  },
  {
   "metadata": {},
   "cell_type": "markdown",
   "source": [
    "\n",
    "## Challenge 4: Colour manipulation - Filter"
   ],
   "id": "31e100c2605dec28"
  },
  {
   "metadata": {
    "ExecuteTime": {
     "end_time": "2024-10-22T22:28:00.093010Z",
     "start_time": "2024-10-22T22:27:59.710436Z"
    }
   },
   "cell_type": "code",
   "source": [
    "print(matrix[0, 0])\n",
    "filtered = matrix\n",
    "# We could also just do filtered[:,:,2] *= 0.5, but this fails because of the casting (float to int)\n",
    "filtered[:, :, 2] = np.multiply(0.5, filtered[:, :, 2], casting='unsafe')\n",
    "print(filtered[0, 0])\n",
    "\n",
    "Image.fromarray(filtered).show()\n"
   ],
   "id": "74f3dca1dea1cc3f",
   "outputs": [
    {
     "name": "stdout",
     "output_type": "stream",
     "text": [
      "[101  90  29]\n",
      "[101  90  14]\n"
     ]
    }
   ],
   "execution_count": 40
  }
 ],
 "metadata": {
  "kernelspec": {
   "display_name": "Python 3",
   "language": "python",
   "name": "python3"
  },
  "language_info": {
   "codemirror_mode": {
    "name": "ipython",
    "version": 2
   },
   "file_extension": ".py",
   "mimetype": "text/x-python",
   "name": "python",
   "nbconvert_exporter": "python",
   "pygments_lexer": "ipython2",
   "version": "2.7.6"
  }
 },
 "nbformat": 4,
 "nbformat_minor": 5
}
